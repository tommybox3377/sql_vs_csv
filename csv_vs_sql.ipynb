{
 "cells": [
  {
   "cell_type": "code",
   "execution_count": 37,
   "metadata": {
    "collapsed": true
   },
   "outputs": [],
   "source": [
    "import csv\n",
    "import sqlite3\n",
    "from random import random, randint, choice\n",
    "import timeit\n",
    "import os"
   ]
  },
  {
   "cell_type": "code",
   "execution_count": 38,
   "outputs": [],
   "source": [
    "# Create a connection to the SQLite database\n",
    "conn = sqlite3.connect('my_db.db')\n",
    "\n",
    "# Create a cursor object to execute SQL queries\n",
    "cursor = conn.cursor()\n",
    "\n",
    "# Create a table\n",
    "create_table_query = '''\n",
    "    CREATE TABLE IF NOT EXISTS science_stuff (\n",
    "        id INTEGER PRIMARY KEY,\n",
    "        group_id TEXT,\n",
    "        sensor_id TEXT,\n",
    "        v1 REAL,\n",
    "        v2 REAL,\n",
    "        v3 REAL,\n",
    "        v4 REAL,\n",
    "        v5 REAL,\n",
    "        v6 REAL,\n",
    "        v7 INTEGER,\n",
    "        v8 INTEGER,\n",
    "        v9 INTEGER\n",
    "    )\n",
    "'''\n",
    "\n",
    "cursor.execute(create_table_query)\n",
    "\n",
    "# Commit the changes and close the connection\n",
    "conn.commit()\n",
    "conn.close()"
   ],
   "metadata": {
    "collapsed": false
   }
  },
  {
   "cell_type": "code",
   "execution_count": 39,
   "outputs": [],
   "source": [
    "# Generate data\n",
    "\n",
    "groups = [\"ABC1\", \"ABC2\", \"XYZ1\", \"XYZ2\"]\n",
    "sensors = [\"g1\", \"g2\", \"m1\", \"m2\"]\n",
    "\n",
    "data = [\n",
    "    (\n",
    "        i,\n",
    "        choice(groups),\n",
    "        choice(sensors),\n",
    "        random() * 10,\n",
    "        random() * 10,\n",
    "        random() * 10,\n",
    "        random() * 10,\n",
    "        random() * 10,\n",
    "        random() * 10,\n",
    "        randint(0, int(1e10)),\n",
    "        randint(0, int(1e10)),\n",
    "        randint(0, int(1e10)),\n",
    "    ) for i in range(1, 1000000)\n",
    "]"
   ],
   "metadata": {
    "collapsed": false
   }
  },
  {
   "cell_type": "code",
   "execution_count": 40,
   "outputs": [],
   "source": [
    "conn = sqlite3.connect('my_db.db')\n",
    "cursor = conn.cursor()\n",
    "\n",
    "# Define the SQL statement for the insert operation\n",
    "sql = \"INSERT INTO science_stuff (id, group_id, sensor_id, v1, v2, v3, v4, v5, v6, v7, v8, v9) VALUES (?, ?, ?, ?, ?, ?, ?, ?, ?, ?, ?, ?)\"\n",
    "\n",
    "# Execute the insert statement\n",
    "cursor.executemany(sql, data)\n",
    "\n",
    "# Commit the changes to the database\n",
    "conn.commit()\n",
    "\n",
    "# Close the cursor and the database connection\n",
    "cursor.close()\n",
    "conn.close()"
   ],
   "metadata": {
    "collapsed": false
   }
  },
  {
   "cell_type": "code",
   "execution_count": 41,
   "outputs": [],
   "source": [
    "csv_file = 'my_csv.csv'\n",
    "\n",
    "# Write the list of tuples to the CSV file\n",
    "with open(csv_file, 'w', newline='') as file:\n",
    "    writer = csv.writer(file)\n",
    "    writer.writerow([\n",
    "        \"id\", \"group_id\", \"sensor_id\", \"v1\", \"v2\", \"v3\", \"v4\", \"v5\", \"v6\", \"v7\", \"v8\", \"v9\"\n",
    "    ])\n",
    "    writer.writerows(data)"
   ],
   "metadata": {
    "collapsed": false
   }
  },
  {
   "cell_type": "code",
   "execution_count": 42,
   "outputs": [
    {
     "name": "stdout",
     "output_type": "stream",
     "text": [
      "SQLite size: 87.01 MB\n",
      "CSV size: 150.84 MB\n"
     ]
    }
   ],
   "source": [
    "# The database is more space efficient, will vary by data types, set up, etc... but in this case about half as large\n",
    "\n",
    "sql_lite_file_size = os.path.getsize(\"my_db.db\") / (1024 * 1024)\n",
    "csv_file_size = os.path.getsize(\"my_csv.csv\") / (1024 * 1024)\n",
    "\n",
    "print(f\"SQLite size: {sql_lite_file_size:.2f} MB\")\n",
    "print(f\"CSV size: {csv_file_size:.2f} MB\")"
   ],
   "metadata": {
    "collapsed": false
   }
  },
  {
   "cell_type": "code",
   "execution_count": 43,
   "outputs": [],
   "source": [
    "sql_code_snippet = \"\"\"\n",
    "import sqlite3\n",
    "\n",
    "conn = sqlite3.connect('my_db.db')\n",
    "cursor = conn.cursor()\n",
    "\n",
    "# Define the SQL statement for the insert operation\n",
    "sql = '''{sql}'''\n",
    "\n",
    "# Fetch the data\n",
    "cursor.execute(sql)\n",
    "data = cursor.fetchall()\n",
    "\n",
    "# Close the connection\n",
    "cursor.close()\n",
    "conn.close()\"\"\"\n",
    "\n",
    "csv_code_snippet = \"\"\"\n",
    "import csv\n",
    "\n",
    "csv_file = 'my_csv.csv'\n",
    "\n",
    "data = []\n",
    "\n",
    "# Open the CSV file for reading\n",
    "with open(csv_file, 'r') as file:\n",
    "    # Create a CSV reader object\n",
    "    reader = csv.DictReader(file)\n",
    "\n",
    "    # Iterate over each row in the CSV file\n",
    "    for row in reader:\n",
    "        {conditional}:\n",
    "            data.append(row)\"\"\""
   ],
   "metadata": {
    "collapsed": false
   }
  },
  {
   "cell_type": "code",
   "execution_count": 44,
   "outputs": [
    {
     "name": "stdout",
     "output_type": "stream",
     "text": [
      "SQL Execution time: 0.47082840000803117 seconds\n",
      "CSV Execution time: 3.15110229999118 seconds\n"
     ]
    }
   ],
   "source": [
    "# Getting the data will also be faster\n",
    "\n",
    "# We get all teh data that are in the group ABC1\n",
    "\n",
    "execution_time = timeit.timeit(sql_code_snippet.format(sql=\"SELECT * FROM science_stuff WHERE group_id = 'ABC1';\"), number=1)\n",
    "print(\"SQL Execution time:\", execution_time, \"seconds\")\n",
    "\n",
    "execution_time = timeit.timeit(csv_code_snippet.format(conditional=\"if row['group_id'] == 'ABC1'\"), number=1)\n",
    "print(\"CSV Execution time:\", execution_time, \"seconds\")"
   ],
   "metadata": {
    "collapsed": false
   }
  },
  {
   "cell_type": "code",
   "execution_count": 45,
   "outputs": [
    {
     "name": "stdout",
     "output_type": "stream",
     "text": [
      "SQL Execution time: 0.20006779998948332 seconds\n",
      "CSV Execution time: 3.024245599997812 seconds\n"
     ]
    }
   ],
   "source": [
    "# Some searches will be even faster, such as where we get all the data from sensor g1 on group ABC1\n",
    "\n",
    "execution_time = timeit.timeit(sql_code_snippet.format(sql=\"SELECT * FROM science_stuff WHERE group_id = 'ABC1' AND sensor_id = 'g1';\"), number=1)\n",
    "print(\"SQL Execution time:\", execution_time, \"seconds\")\n",
    "\n",
    "execution_time = timeit.timeit(csv_code_snippet.format(conditional=\"if row['group_id'] == 'ABC1' and row['sensor_id'] == 'g1'\"), number=1)\n",
    "print(\"CSV Execution time:\", execution_time, \"seconds\")"
   ],
   "metadata": {
    "collapsed": false
   }
  },
  {
   "cell_type": "code",
   "execution_count": 46,
   "outputs": [
    {
     "name": "stdout",
     "output_type": "stream",
     "text": [
      "SQL Execution time: 1.2270828000037 seconds\n",
      "CSV Execution time: 3.6783918000000995 seconds\n"
     ]
    }
   ],
   "source": [
    "# Other ones will be less so such as getting all the rows where the value of v3 is greater than 1\n",
    "\n",
    "execution_time = timeit.timeit(sql_code_snippet.format(sql=\"SELECT * FROM science_stuff WHERE v3 > 1;\"), number=1)\n",
    "print(\"SQL Execution time:\", execution_time, \"seconds\")\n",
    "\n",
    "execution_time = timeit.timeit(csv_code_snippet.format(conditional=\"if float(row['v3']) > 1.\"), number=1)\n",
    "print(\"CSV Execution time:\", execution_time, \"seconds\")"
   ],
   "metadata": {
    "collapsed": false
   }
  },
  {
   "cell_type": "code",
   "execution_count": 47,
   "outputs": [
    {
     "name": "stdout",
     "output_type": "stream",
     "text": [
      "SQL Execution time: 0.0004718999989563599 seconds\n",
      "CSV Execution time: 2.990760400003637 seconds\n"
     ]
    }
   ],
   "source": [
    "# Some searches, the comparison isn't even fair\n",
    "\n",
    "execution_time = timeit.timeit(sql_code_snippet.format(sql=\"SELECT * FROM science_stuff WHERE id = 42069;\"), number=1)\n",
    "print(\"SQL Execution time:\", execution_time, \"seconds\")\n",
    "\n",
    "execution_time = timeit.timeit(csv_code_snippet.format(conditional=\"if int(row['id']) == 1\"), number=1)\n",
    "print(\"CSV Execution time:\", execution_time, \"seconds\")"
   ],
   "metadata": {
    "collapsed": false
   }
  }
 ],
 "metadata": {
  "kernelspec": {
   "display_name": "Python 3",
   "language": "python",
   "name": "python3"
  },
  "language_info": {
   "codemirror_mode": {
    "name": "ipython",
    "version": 2
   },
   "file_extension": ".py",
   "mimetype": "text/x-python",
   "name": "python",
   "nbconvert_exporter": "python",
   "pygments_lexer": "ipython2",
   "version": "2.7.6"
  }
 },
 "nbformat": 4,
 "nbformat_minor": 0
}
